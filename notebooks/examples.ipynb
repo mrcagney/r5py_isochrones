{
 "cells": [
  {
   "cell_type": "code",
   "execution_count": null,
   "id": "6f2866ca-fce2-4a35-b8a6-0695d13ffd30",
   "metadata": {},
   "outputs": [],
   "source": [
    "import pathlib as pl\n",
    "import sys\n",
    "import datetime as dt\n",
    "\n",
    "import pandas as pd\n",
    "import geopandas as gpd\n",
    "import r5py as r5\n",
    "import pyrosm as pr\n",
    "import geohexgrid as ghg\n",
    "from loguru import logger\n",
    "\n",
    "sys.path.append(\"../\")\n",
    "\n",
    "import r5py_isochrones as r5i\n",
    "\n",
    "gpd.options.io_engine = \"pyogrio\"  # For faster geometric operations\n"
   ]
  },
  {
   "cell_type": "markdown",
   "id": "2be87976-5aa5-48cc-897e-5b2bb12ed38a",
   "metadata": {},
   "source": [
    "# Setup"
   ]
  },
  {
   "cell_type": "code",
   "execution_count": null,
   "id": "8424a17d-6905-4c4a-8454-798aaaaf36aa",
   "metadata": {},
   "outputs": [],
   "source": [
    "DATA_DIR = pl.Path(\"../data\") \n",
    "WGS84 = \"epsg:4326\"\n",
    "NZTM = \"epsg:2193\"\n",
    "%ls {DATA_DIR}\n"
   ]
  },
  {
   "cell_type": "markdown",
   "id": "d184f3ae-9411-450b-8071-1e0f97d81fd3",
   "metadata": {},
   "source": [
    "# Illustrate the functions \n",
    "\n",
    "I wrote two isochrone functions using r5py to help address [this Github issue](https://github.com/r5py/r5py/issues/311) .\n",
    "One is based on a user-specified set of grid cells and\n",
    "one based on the [concave hull isochrones of r5r](https://github.com/ipeaGIT/r5r/blob/master/r-package/R/isochrone.R).\n",
    "I find the grid-style function more useful for my work (which often involves gridding up a study area for sampling),\n",
    "because (1) i can set the resolution of my isochrones (via the grid), \n",
    "and (2) i needn't iterate to find a perfect convex hull ratio to use for accurate-looking results.\n",
    "\n",
    "These examples use data from my location of Auckland, New Zealand, which i can confidently scrutinise."
   ]
  },
  {
   "cell_type": "code",
   "execution_count": null,
   "id": "06719b04-992a-46eb-8bee-4e7648aa2b3d",
   "metadata": {},
   "outputs": [],
   "source": [
    "# Load Auckland OSM and GTFS data\n",
    "%time akl_pbf_path = pr.get_data(\"Auckland\", directory=DATA_DIR)\n",
    "akl_gtfs_path = DATA_DIR / \"auckland_gtfs_20230824.zip\"\n",
    "\n",
    "# Make the R5 transport network from these\n",
    "%time transport_network = r5.TransportNetwork(akl_pbf_path, [akl_gtfs_path])\n",
    "transport_modes = [\n",
    "    r5.TransportMode.TRANSIT,\n",
    "    r5.TransportMode.WALK,\n",
    "]"
   ]
  },
  {
   "cell_type": "code",
   "execution_count": null,
   "id": "a387fc48-0eae-45e0-be94-931f02dcfccc",
   "metadata": {},
   "outputs": [],
   "source": [
    "%%time\n",
    "\n",
    "# Make a hexagon grid of circumradius 100 m covering the transport network\n",
    "# and clipping to coastlines\n",
    "study_area = (\n",
    "    # Contains coastlines\n",
    "    gpd.read_file(DATA_DIR / \"auckland.gpkg\")  \n",
    "    .clip(\n",
    "        gpd.GeoDataFrame(geometry=[transport_network.extent], crs=WGS84)\n",
    "        .to_crs(NZTM)\n",
    "    )\n",
    ")\n",
    "path = DATA_DIR / \"auckland_grid_100m.gpkg\"\n",
    "if not path.exists():\n",
    "    logger.info(\"Making grid\")\n",
    "    grid = ghg.make_grid_from_gdf(study_area, 100, clip=True)\n",
    "    grid.to_file(path, driver=\"GPKG\")\n",
    "else:\n",
    "    grid = gpd.read_file(path)\n",
    "\n",
    "display(grid.head())\n",
    "print(\"#grid cells =\", grid.shape[0])\n",
    "\n",
    "# Plot the study area and the some grid cells.\n",
    "# The entire grid takes too long to plot\n",
    "pd.concat([study_area, grid.iloc[55_000:56_000]]).explore(tiles=\"CartoDB positron\")\n"
   ]
  },
  {
   "cell_type": "code",
   "execution_count": null,
   "id": "79c0fea4-d51f-42c2-ab42-56298ed83c9e",
   "metadata": {},
   "outputs": [],
   "source": [
    "# Get some origin points, some of which might involve ferry rides\n",
    "\n",
    "origins = gpd.read_file(DATA_DIR / \"auckland_points.geojson\").assign(id=lambda x: x.index).to_crs(NZTM)\n",
    "display(origins)\n",
    "display(origins.assign(geometry=lambda x: x.buffer(50)).explore(tiles=\"CartoDB positron\"))\n"
   ]
  },
  {
   "cell_type": "code",
   "execution_count": null,
   "id": "c0aea8bd-8d1c-4ef7-9997-a0cdf3ff5f27",
   "metadata": {},
   "outputs": [],
   "source": [
    "%%time\n",
    "\n",
    "# Takes ~15 seconds on my computer\n",
    "isos = (\n",
    "    r5i.isochrone_g(\n",
    "        transport_network=transport_network, \n",
    "        transport_modes=transport_modes,\n",
    "        origins=origins,\n",
    "        departure=dt.datetime(2023, 8, 28, 8, 0, 0),\n",
    "        time_bounds=[45],\n",
    "        grid=grid.rename(columns={\"cell_id\": \"id\"}),\n",
    "        departure_time_window=dt.timedelta(seconds=35*60),\n",
    "        percentiles=[1, 25, 50],\n",
    "    )\n",
    ")\n",
    "\n",
    "display(isos.head())\n",
    "for ptile, group in isos.groupby(\"travel_time_percentile\"):\n",
    "    print(ptile)\n",
    "    display(group.explore(column=\"from_id\", categorical=True, cmap=\"viridis\", tiles=\"CartoDB positron\"))"
   ]
  },
  {
   "cell_type": "code",
   "execution_count": null,
   "id": "2e8f6945-8e62-468e-8f8b-7c1fc70010a7",
   "metadata": {},
   "outputs": [],
   "source": [
    "%%time\n",
    "\n",
    "# Takes ~77 seconds on my computer\n",
    "isos = (\n",
    "    r5i.isochrone_ch(\n",
    "        transport_network=transport_network, \n",
    "        transport_modes=transport_modes,\n",
    "        origins=origins,\n",
    "        departure=dt.datetime(2023, 8, 28, 8, 0, 0),\n",
    "        time_bounds=[45],\n",
    "        departure_time_window=dt.timedelta(seconds=35*60),\n",
    "        percentiles=[1, 25, 50],\n",
    "    )\n",
    ")\n",
    "\n",
    "display(isos.head())\n",
    "for ptile, group in isos.groupby(\"travel_time_percentile\"):\n",
    "    print(ptile)\n",
    "    display(group.explore(column=\"from_id\", categorical=True, cmap=\"viridis\", tiles=\"CartoDB positron\"))"
   ]
  },
  {
   "cell_type": "code",
   "execution_count": null,
   "id": "d412b91c-4062-44a0-839d-7d96c79a8cd7",
   "metadata": {},
   "outputs": [],
   "source": []
  }
 ],
 "metadata": {
  "kernelspec": {
   "display_name": "Python 3 (ipykernel)",
   "language": "python",
   "name": "python3"
  },
  "language_info": {
   "codemirror_mode": {
    "name": "ipython",
    "version": 3
   },
   "file_extension": ".py",
   "mimetype": "text/x-python",
   "name": "python",
   "nbconvert_exporter": "python",
   "pygments_lexer": "ipython3",
   "version": "3.10.12"
  }
 },
 "nbformat": 4,
 "nbformat_minor": 5
}
